{
 "cells": [
  {
   "cell_type": "code",
   "execution_count": 1,
   "metadata": {},
   "outputs": [],
   "source": [
    "import findspark\n",
    "findspark.init(\"C:\\spark\")\n",
    "\n",
    "from pyspark.sql import SparkSession\n",
    "from pyspark.conf import SparkConf\n",
    "\n",
    "spark = SparkSession.builder. \\\n",
    "master(\"local[4]\"). \\\n",
    "appName(\"Df-giriş\"). \\\n",
    "config(\"spark.driver.memory\",\"2g\"). \\\n",
    "config(\"spark.executor.memory\",\"4g\"). \\\n",
    "getOrCreate()\n",
    "\n",
    "sc = spark.sparkContext"
   ]
  },
  {
   "cell_type": "code",
   "execution_count": 2,
   "metadata": {},
   "outputs": [],
   "source": [
    "path = \"Data\\\\staj-raporu.txt\""
   ]
  },
  {
   "cell_type": "code",
   "execution_count": 3,
   "metadata": {},
   "outputs": [],
   "source": [
    "hikaye_df = spark.read.text(path)  "
   ]
  },
  {
   "cell_type": "code",
   "execution_count": 5,
   "metadata": {},
   "outputs": [
    {
     "name": "stdout",
     "output_type": "stream",
     "text": [
      "+---------------------------------------------------------------------------------------------------------------------------------+\n",
      "|value                                                                                                                            |\n",
      "+---------------------------------------------------------------------------------------------------------------------------------+\n",
      "|https://www.tensorflow.org/tutorials/images/transfer_learning                                                                    |\n",
      "|                                                                                                                                 |\n",
      "|üstteki transfer learning yani daha once den train edilmiş onemlii feature extractionları yapan bu yazının başında anlatıyo zaten|\n",
      "+---------------------------------------------------------------------------------------------------------------------------------+\n",
      "only showing top 3 rows\n",
      "\n"
     ]
    }
   ],
   "source": [
    "hikaye_df.show(3,truncate = False)"
   ]
  },
  {
   "cell_type": "code",
   "execution_count": 26,
   "metadata": {},
   "outputs": [],
   "source": [
    "from pyspark.sql.functions import explode , split , col\n",
    "\n",
    "\n",
    "kelimeler = hikaye_df.select(explode(split(col(\"value\"),\" \")))# explode içine sütün"
   ]
  },
  {
   "cell_type": "code",
   "execution_count": 23,
   "metadata": {},
   "outputs": [
    {
     "name": "stdout",
     "output_type": "stream",
     "text": [
      "+--------------------+\n",
      "|                 col|\n",
      "+--------------------+\n",
      "|https://www.tenso...|\n",
      "|                    |\n",
      "|             üstteki|\n",
      "|            transfer|\n",
      "|            learning|\n",
      "+--------------------+\n",
      "only showing top 5 rows\n",
      "\n"
     ]
    }
   ],
   "source": [
    "kelimeler.show(5)"
   ]
  },
  {
   "cell_type": "code",
   "execution_count": 29,
   "metadata": {},
   "outputs": [
    {
     "name": "stdout",
     "output_type": "stream",
     "text": [
      "+-----------+-----+\n",
      "|        col|count|\n",
      "+-----------+-----+\n",
      "|           |   10|\n",
      "|       daha|    3|\n",
      "|         bu|    2|\n",
      "|    tunning|    2|\n",
      "|        -->|    2|\n",
      "|      train|    2|\n",
      "|    başında|    1|\n",
      "|    yapıcaz|    1|\n",
      "|detectioonn|    1|\n",
      "|        3-)|    1|\n",
      "+-----------+-----+\n",
      "only showing top 10 rows\n",
      "\n"
     ]
    }
   ],
   "source": [
    "from pyspark.sql.functions import desc\n",
    "kelimeler.groupBy(\"col\").count().orderBy(desc(\"count\")).show(10)"
   ]
  },
  {
   "cell_type": "code",
   "execution_count": null,
   "metadata": {},
   "outputs": [],
   "source": []
  }
 ],
 "metadata": {
  "kernelspec": {
   "display_name": "Python 3",
   "language": "python",
   "name": "python3"
  },
  "language_info": {
   "codemirror_mode": {
    "name": "ipython",
    "version": 3
   },
   "file_extension": ".py",
   "mimetype": "text/x-python",
   "name": "python",
   "nbconvert_exporter": "python",
   "pygments_lexer": "ipython3",
   "version": "3.7.4"
  }
 },
 "nbformat": 4,
 "nbformat_minor": 2
}
