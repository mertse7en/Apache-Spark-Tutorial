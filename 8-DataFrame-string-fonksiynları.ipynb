{
 "cells": [
  {
   "cell_type": "code",
   "execution_count": 3,
   "metadata": {},
   "outputs": [],
   "source": [
    "import findspark\n",
    "findspark.init(\"C:\\spark\")\n",
    "\n",
    "from pyspark.sql import SparkSession\n",
    "from pyspark.conf import SparkConf\n",
    "\n",
    "spark = SparkSession.builder. \\\n",
    "master(\"local[4]\"). \\\n",
    "appName(\"Df-string\"). \\\n",
    "config(\"spark.driver.memory\",\"2g\"). \\\n",
    "config(\"spark.executor.memory\",\"4g\"). \\\n",
    "getOrCreate()\n",
    "\n",
    "sc = spark.sparkContext"
   ]
  },
  {
   "cell_type": "code",
   "execution_count": 4,
   "metadata": {},
   "outputs": [],
   "source": [
    "simple_df =spark.read \\\n",
    ".option(\"sep\",\",\") \\\n",
    ".option(\"header\" , \"True\") \\\n",
    ".option(\"inferSchema\" , \"True\") \\\n",
    ".csv(\"Data\\\\simple_dirty.csv\")"
   ]
  },
  {
   "cell_type": "code",
   "execution_count": 5,
   "metadata": {},
   "outputs": [],
   "source": [
    "from pyspark.sql.functions import *"
   ]
  },
  {
   "cell_type": "markdown",
   "metadata": {},
   "source": [
    "# 1.Concat"
   ]
  },
  {
   "cell_type": "code",
   "execution_count": 10,
   "metadata": {},
   "outputs": [
    {
     "name": "stdout",
     "output_type": "stream",
     "text": [
      "+------+--------+---+--------+-----------+-----------+-----------+----------------------+----------------------+\n",
      "|sirano|isim    |yas|cinsiyet|meslek     |sehir      |aylik_gelir|mal_mulk              |meslekvesehir         |\n",
      "+------+--------+---+--------+-----------+-----------+-----------+----------------------+----------------------+\n",
      "|1     |Cemal   |35 |E       |Isci       |Ankara     |3500.0     |araba                 |Isci-Ankara           |\n",
      "|2     |ceyda   |42 |K       |Memur      |Kayseri    |4200.0     |araba|ev              |Memur-Kayseri         |\n",
      "|3     |Timur   |30 |null    |Müzüsyen   |Istanbul   |9000.0     |araba|ev|yazlık       |Müzüsyen-Istanbul     |\n",
      "|4     |Burcu   |29 |K       |Pazarlamacı|    Ankara |4200.0     |araba                 |Pazarlamacı-    Ankara|\n",
      "|5     |Yasemin |23 |K       |Pazarlamaci|Bursa      |4800.0     |araba                 |Pazarlamaci-Bursa     |\n",
      "|6     | Ali    |33 |E       |Memur      |Ankara     |4250.0     |ev                    |Memur-Ankara          |\n",
      "|7     |Dilek   |29 |K       |Pazarlamaci|Istanbul   |7300.0     |araba|yazlık          |Pazarlamaci-Istanbul  |\n",
      "|8     |Murat   |31 |E       |Müzüsyen   |Istanbul   |12000.0    |araba|ev|dükkan|yazlık|Müzüsyen-Istanbul     |\n",
      "|9     |Ahmet   |33 |E       |Doktor     |Ankara     |180000.0   |araba|ev|yazlık       |Doktor-Ankara         |\n",
      "|10    |Muhittin|46 |E       |Berber     | Istanbul  |12000.0    |araba|ev|dükkan       |Berber- Istanbul      |\n",
      "+------+--------+---+--------+-----------+-----------+-----------+----------------------+----------------------+\n",
      "only showing top 10 rows\n",
      "\n"
     ]
    }
   ],
   "source": [
    "df_concat = simple_df \\\n",
    ".withColumn(\"meslekvesehir\", concat(col(\"meslek\"), lit(\"-\"),col(\"sehir\")))\n",
    "\n",
    "df_concat.show(n=10 , truncate=False)"
   ]
  },
  {
   "cell_type": "code",
   "execution_count": null,
   "metadata": {},
   "outputs": [],
   "source": []
  },
  {
   "cell_type": "markdown",
   "metadata": {},
   "source": [
    "# 2.NumberFormat"
   ]
  },
  {
   "cell_type": "code",
   "execution_count": 16,
   "metadata": {},
   "outputs": [
    {
     "name": "stdout",
     "output_type": "stream",
     "text": [
      "+------+------+---+--------+--------+-----------+-----------+---------------+------------------+\n",
      "|sirano|  isim|yas|cinsiyet|  meslek|      sehir|aylik_gelir|       mal_mulk|aylik_gelir_format|\n",
      "+------+------+---+--------+--------+-----------+-----------+---------------+------------------+\n",
      "|     1| Cemal| 35|       E|    Isci|     Ankara|     3500.0|          araba|         3,500.000|\n",
      "|     2|ceyda | 42|       K|   Memur|    Kayseri|     4200.0|       araba|ev|         4,200.000|\n",
      "|     3| Timur| 30|    null|Müzüsyen|Istanbul   |     9000.0|araba|ev|yazlık|         9,000.000|\n",
      "+------+------+---+--------+--------+-----------+-----------+---------------+------------------+\n",
      "only showing top 3 rows\n",
      "\n"
     ]
    }
   ],
   "source": [
    "df_number_format = simple_df \\\n",
    ".withColumn(\"aylik_gelir_format\",format_number(col(\"aylik_gelir\"), 3))\n",
    "\n",
    "df_number_format.show(3)"
   ]
  },
  {
   "cell_type": "markdown",
   "metadata": {},
   "source": [
    "# 3.lower,initcap,length"
   ]
  },
  {
   "cell_type": "code",
   "execution_count": 18,
   "metadata": {},
   "outputs": [
    {
     "name": "stdout",
     "output_type": "stream",
     "text": [
      "+------+-------+---+--------+-----------+-----------+-----------+---------------+------------+------------+------------+\n",
      "|sirano|isim   |yas|cinsiyet|meslek     |sehir      |aylik_gelir|mal_mulk       |meslek_lower|isim_initcap|sehir_length|\n",
      "+------+-------+---+--------+-----------+-----------+-----------+---------------+------------+------------+------------+\n",
      "|1     |Cemal  |35 |E       |Isci       |Ankara     |3500.0     |araba          |isci        |Cemal       |6           |\n",
      "|2     |ceyda  |42 |K       |Memur      |Kayseri    |4200.0     |araba|ev       |memur       |Ceyda       |7           |\n",
      "|3     |Timur  |30 |null    |Müzüsyen   |Istanbul   |9000.0     |araba|ev|yazlık|müzüsyen    |Timur       |11          |\n",
      "|4     |Burcu  |29 |K       |Pazarlamacı|    Ankara |4200.0     |araba          |pazarlamacı |Burcu       |10          |\n",
      "|5     |Yasemin|23 |K       |Pazarlamaci|Bursa      |4800.0     |araba          |pazarlamaci |Yasemin     |5           |\n",
      "+------+-------+---+--------+-----------+-----------+-----------+---------------+------------+------------+------------+\n",
      "only showing top 5 rows\n",
      "\n"
     ]
    }
   ],
   "source": [
    "df_lower = simple_df \\\n",
    ".withColumn(\"meslek_lower\" , lower(col(\"meslek\"))) \\\n",
    ".withColumn(\"isim_initcap\" ,initcap(col(\"isim\"))) \\\n",
    ".withColumn(\"sehir_length\" ,length(col(\"sehir\")))\n",
    "\n",
    "df_lower.show(n=5,truncate = False)"
   ]
  },
  {
   "cell_type": "markdown",
   "metadata": {},
   "source": [
    "# 4.Trim"
   ]
  },
  {
   "cell_type": "code",
   "execution_count": 20,
   "metadata": {},
   "outputs": [
    {
     "name": "stdout",
     "output_type": "stream",
     "text": [
      "+------+---------+---+--------+-----------+-----------+-----------+--------------------+----------+\n",
      "|sirano|     isim|yas|cinsiyet|     meslek|      sehir|aylik_gelir|            mal_mulk|sehir_trim|\n",
      "+------+---------+---+--------+-----------+-----------+-----------+--------------------+----------+\n",
      "|     1|    Cemal| 35|       E|       Isci|     Ankara|     3500.0|               araba|    Ankara|\n",
      "|     2|   ceyda | 42|       K|      Memur|    Kayseri|     4200.0|            araba|ev|   Kayseri|\n",
      "|     3|    Timur| 30|    null|   Müzüsyen|Istanbul   |     9000.0|     araba|ev|yazlık|  Istanbul|\n",
      "|     4|   Burcu | 29|       K|Pazarlamacı|     Ankara|     4200.0|               araba|    Ankara|\n",
      "|     5|  Yasemin| 23|       K|Pazarlamaci|      Bursa|     4800.0|               araba|     Bursa|\n",
      "|     6|      Ali| 33|       E|      Memur|     Ankara|     4250.0|                  ev|    Ankara|\n",
      "|     7|    Dilek| 29|       K|Pazarlamaci|   Istanbul|     7300.0|        araba|yazlık|  Istanbul|\n",
      "|     8|    Murat| 31|       E|   Müzüsyen|   Istanbul|    12000.0|araba|ev|dükkan|y...|  Istanbul|\n",
      "|     9|    Ahmet| 33|       E|     Doktor|     Ankara|   180000.0|     araba|ev|yazlık|    Ankara|\n",
      "|    10| Muhittin| 46|       E|     Berber|   Istanbul|    12000.0|     araba|ev|dükkan|  Istanbul|\n",
      "|    11| Hicaziye| 47|       K| Tuhafiyeci|       null|        4.8|              dükkan|      null|\n",
      "|    12|    Harun| 43|       E|    Tornacı|    Ankara |     4200.0|               araba|    Ankara|\n",
      "|    13|    hakkı| 33|       E|      memur|     Çorum |     3750.0|                  ev|     Çorum|\n",
      "|    14|  Gülizar| 37|       K|     Doktor|      İzmir|    14250.0|               araba|     İzmir|\n",
      "|    15|   Şehmuz| 41|       E|   Müzisyen|     Ankara|     8700.0|               araba|    Ankara|\n",
      "+------+---------+---+--------+-----------+-----------+-----------+--------------------+----------+\n",
      "\n"
     ]
    }
   ],
   "source": [
    "df_trim = simple_df \\\n",
    ".withColumn(\"sehir_trim\" , trim(col(\"sehir\")))\n",
    "\n",
    "df_trim.show()"
   ]
  },
  {
   "cell_type": "markdown",
   "metadata": {},
   "source": [
    "# 5.Replace , split"
   ]
  },
  {
   "cell_type": "code",
   "execution_count": 24,
   "metadata": {},
   "outputs": [
    {
     "name": "stdout",
     "output_type": "stream",
     "text": [
      "+------+------+---+--------+-----------+-----------+-----------+---------------+-----------+-------------------+----------------------+\n",
      "|sirano|isim  |yas|cinsiyet|meslek     |sehir      |aylik_gelir|mal_mulk       |sehir_ist  |mal_mulk_split     |mal_mulk_ilk_eleman_al|\n",
      "+------+------+---+--------+-----------+-----------+-----------+---------------+-----------+-------------------+----------------------+\n",
      "|1     |Cemal |35 |E       |Isci       |Ankara     |3500.0     |araba          |Ankara     |[araba]            |null                  |\n",
      "|2     |ceyda |42 |K       |Memur      |Kayseri    |4200.0     |araba|ev       |Kayseri    |[araba, ev]        |ev                    |\n",
      "|3     |Timur |30 |null    |Müzüsyen   |Istanbul   |9000.0     |araba|ev|yazlık|ISTanbul   |[araba, ev, yazlık]|ev                    |\n",
      "|4     |Burcu |29 |K       |Pazarlamacı|    Ankara |4200.0     |araba          |    Ankara |[araba]            |null                  |\n",
      "+------+------+---+--------+-----------+-----------+-----------+---------------+-----------+-------------------+----------------------+\n",
      "only showing top 4 rows\n",
      "\n"
     ]
    }
   ],
   "source": [
    "df_replace = simple_df \\\n",
    ".withColumn(\"sehir_ist\" , regexp_replace(col(\"sehir\") , \"Ist\" , \"IST\")) \\\n",
    ".withColumn(\"mal_mulk_split\" , split(col(\"mal_mulk\") , \"\\\\|\")) \\\n",
    ".withColumn(\"mal_mulk_ilk_eleman_al\" , col(\"mal_mulk_split\")[1])\n",
    "\n",
    "df_replace.show(n=4 , truncate = False)"
   ]
  },
  {
   "cell_type": "code",
   "execution_count": null,
   "metadata": {},
   "outputs": [],
   "source": []
  }
 ],
 "metadata": {
  "kernelspec": {
   "display_name": "Python 3",
   "language": "python",
   "name": "python3"
  },
  "language_info": {
   "codemirror_mode": {
    "name": "ipython",
    "version": 3
   },
   "file_extension": ".py",
   "mimetype": "text/x-python",
   "name": "python",
   "nbconvert_exporter": "python",
   "pygments_lexer": "ipython3",
   "version": "3.7.4"
  }
 },
 "nbformat": 4,
 "nbformat_minor": 2
}
