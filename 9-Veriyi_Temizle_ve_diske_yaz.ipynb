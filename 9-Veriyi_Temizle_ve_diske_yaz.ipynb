{
 "cells": [
  {
   "cell_type": "code",
   "execution_count": 31,
   "metadata": {},
   "outputs": [],
   "source": [
    "import findspark\n",
    "findspark.init(\"C:\\spark\")\n",
    "\n",
    "from pyspark.sql import SparkSession\n",
    "from pyspark.conf import SparkConf\n",
    "\n",
    "spark = SparkSession.builder. \\\n",
    "master(\"local[4]\"). \\\n",
    "appName(\"Df-clean\"). \\\n",
    "config(\"spark.driver.memory\",\"2g\"). \\\n",
    "config(\"spark.executor.memory\",\"4g\"). \\\n",
    "getOrCreate()\n",
    "\n",
    "sc = spark.sparkContext"
   ]
  },
  {
   "cell_type": "code",
   "execution_count": 33,
   "metadata": {},
   "outputs": [],
   "source": [
    "df =spark.read \\\n",
    ".option(\"sep\",\",\") \\\n",
    ".option(\"header\" , \"True\") \\\n",
    ".option(\"inferSchema\" , \"True\") \\\n",
    ".csv(\"Data\\\\simple_dirty_data.csv\")"
   ]
  },
  {
   "cell_type": "code",
   "execution_count": 34,
   "metadata": {},
   "outputs": [
    {
     "name": "stdout",
     "output_type": "stream",
     "text": [
      "+------+---------+---+--------+-----------+-----------+-----------+--------------------+\n",
      "|sirano|     isim|yas|cinsiyet|     meslek|      sehir|aylik_gelir|            mal_mulk|\n",
      "+------+---------+---+--------+-----------+-----------+-----------+--------------------+\n",
      "|     1|    Cemal| 35|       E|       Isci|     Ankara|     3500.0|               araba|\n",
      "|     2|   ceyda | 42|       K|      Memur|    Kayseri|     4200.0|            araba|ev|\n",
      "|     3|    Timur| 30|    null|   Müzüsyen|Istanbul   |     9000.0|     araba|ev|yazlık|\n",
      "|     4|   Burcu | 29|       K|Pazarlamacı|     Ankara|     4200.0|               araba|\n",
      "|     5|  Yasemin| 23|       K|Pazarlamaci|      Bursa|     4800.0|               araba|\n",
      "|     6|      Ali| 33|       E|      Memur|     Ankara|     4250.0|                  ev|\n",
      "|     7|    Dilek| 29|       K|Pazarlamaci|   Istanbul|     7300.0|        araba|yazlık|\n",
      "|     8|    Murat| 31|       E|   Müzüsyen|   Istanbul|    12000.0|araba|ev|dükkan|y...|\n",
      "|     9|    Ahmet| 33|       E|     Doktor|     Ankara|   180000.0|     araba|ev|yazlık|\n",
      "|    10| Muhittin| 46|       E|     Berber|   Istanbul|    12000.0|     araba|ev|dükkan|\n",
      "|    11| Hicaziye| 47|       K| Tuhafiyeci|       null|        4.8|              dükkan|\n",
      "|    12|    Harun| 43|       E|    Tornacı|    Ankara |     4200.0|               araba|\n",
      "|    13|    hakkı| 33|       E|      memur|     Çorum |     3750.0|                  ev|\n",
      "|    14|  Gülizar| 37|       K|     Doktor|      İzmir|    14250.0|               araba|\n",
      "|    15|   Şehmuz| 41|       E|   Müzisyen|     Ankara|     8700.0|               araba|\n",
      "+------+---------+---+--------+-----------+-----------+-----------+--------------------+\n",
      "\n"
     ]
    }
   ],
   "source": [
    "df.show()"
   ]
  },
  {
   "cell_type": "code",
   "execution_count": 35,
   "metadata": {},
   "outputs": [],
   "source": [
    "from pyspark.sql.functions import *"
   ]
  },
  {
   "cell_type": "code",
   "execution_count": 36,
   "metadata": {},
   "outputs": [
    {
     "name": "stdout",
     "output_type": "stream",
     "text": [
      "+------+--------+---+--------+-----------+--------+-----------+--------------------+\n",
      "|sirano|    isim|yas|cinsiyet|     meslek|   sehir|aylik_gelir|            mal_mulk|\n",
      "+------+--------+---+--------+-----------+--------+-----------+--------------------+\n",
      "|     1|   Cemal| 35|       E|       Isci|  ANKARA|     3500.0|               araba|\n",
      "|     2|   Ceyda| 42|       K|      Memur| KAYSERI|     4200.0|            araba|ev|\n",
      "|     3|   Timur| 30|       U|   Müzüsyen|ISTANBUL|     9000.0|     araba|ev|yazlık|\n",
      "|     4|   Burcu| 29|       K|Pazarlamacı|  ANKARA|     4200.0|               araba|\n",
      "|     5| Yasemin| 23|       K|Pazarlamaci|   BURSA|     4800.0|               araba|\n",
      "|     6|     Ali| 33|       E|      Memur|  ANKARA|     4250.0|                  ev|\n",
      "|     7|   Dilek| 29|       K|Pazarlamaci|ISTANBUL|     7300.0|        araba|yazlık|\n",
      "|     8|   Murat| 31|       E|   Müzüsyen|ISTANBUL|    12000.0|araba|ev|dükkan|y...|\n",
      "|     9|   Ahmet| 33|       E|     Doktor|  ANKARA|   180000.0|     araba|ev|yazlık|\n",
      "|    10|Muhittin| 46|       E|     Berber|ISTANBUL|    12000.0|     araba|ev|dükkan|\n",
      "+------+--------+---+--------+-----------+--------+-----------+--------------------+\n",
      "only showing top 10 rows\n",
      "\n"
     ]
    }
   ],
   "source": [
    "df2 = df \\\n",
    ".withColumn(\"isim\",trim(initcap(df.isim))) \\\n",
    ".withColumn(\"cinsiyet\" , when(df.cinsiyet.isNull() ,\"U\").otherwise(df.cinsiyet)) \\\n",
    ".withColumn(\"sehir\" , when(df.sehir.isNull() , \"BİLİNMİYOR\").otherwise(trim(upper(df.sehir))))\n",
    "\n",
    "df2.show(10)"
   ]
  },
  {
   "cell_type": "markdown",
   "metadata": {},
   "source": [
    "## temizlik bitti lets write to disk"
   ]
  },
  {
   "cell_type": "code",
   "execution_count": 37,
   "metadata": {},
   "outputs": [],
   "source": [
    "df2 \\\n",
    ".coalesce(1) \\\n",
    ".write \\\n",
    ".mode(\"overwrite\") \\\n",
    ".option(\"sep\" , \",\") \\\n",
    ".option(\"header\", \"True\") \\\n",
    ".csv(\"Data\\\\simple_dirty_data\")"
   ]
  },
  {
   "cell_type": "code",
   "execution_count": null,
   "metadata": {},
   "outputs": [],
   "source": []
  },
  {
   "cell_type": "code",
   "execution_count": 38,
   "metadata": {},
   "outputs": [],
   "source": [
    "df3 = spark.read \\\n",
    ".option(\"sep\",\",\") \\\n",
    ".option(\"header\" , \"True\") \\\n",
    ".option(\"inferSchema\" , \"True\") \\\n",
    ".csv(\"Data\\\\simple_dirty_data\")\n"
   ]
  },
  {
   "cell_type": "code",
   "execution_count": 39,
   "metadata": {},
   "outputs": [
    {
     "name": "stdout",
     "output_type": "stream",
     "text": [
      "+------+-------+---+--------+-----------+--------+-----------+---------------+\n",
      "|sirano|   isim|yas|cinsiyet|     meslek|   sehir|aylik_gelir|       mal_mulk|\n",
      "+------+-------+---+--------+-----------+--------+-----------+---------------+\n",
      "|     1|  Cemal| 35|       E|       Isci|  ANKARA|     3500.0|          araba|\n",
      "|     2|  Ceyda| 42|       K|      Memur| KAYSERI|     4200.0|       araba|ev|\n",
      "|     3|  Timur| 30|       U|   Müzüsyen|ISTANBUL|     9000.0|araba|ev|yazlık|\n",
      "|     4|  Burcu| 29|       K|Pazarlamacı|  ANKARA|     4200.0|          araba|\n",
      "|     5|Yasemin| 23|       K|Pazarlamaci|   BURSA|     4800.0|          araba|\n",
      "+------+-------+---+--------+-----------+--------+-----------+---------------+\n",
      "only showing top 5 rows\n",
      "\n"
     ]
    }
   ],
   "source": [
    "df3.show(5)"
   ]
  },
  {
   "cell_type": "code",
   "execution_count": null,
   "metadata": {},
   "outputs": [],
   "source": []
  }
 ],
 "metadata": {
  "kernelspec": {
   "display_name": "Python 3",
   "language": "python",
   "name": "python3"
  },
  "language_info": {
   "codemirror_mode": {
    "name": "ipython",
    "version": 3
   },
   "file_extension": ".py",
   "mimetype": "text/x-python",
   "name": "python",
   "nbconvert_exporter": "python",
   "pygments_lexer": "ipython3",
   "version": "3.7.4"
  }
 },
 "nbformat": 4,
 "nbformat_minor": 2
}
